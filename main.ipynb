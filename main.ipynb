{
 "cells": [
  {
   "cell_type": "code",
   "execution_count": 43,
   "metadata": {},
   "outputs": [],
   "source": [
    "import numpy as np\n",
    "import pandas as pd\n",
    "from matplotlib import pyplot as plt\n",
    "from sklearn.preprocessing import MinMaxScaler"
   ]
  },
  {
   "cell_type": "code",
   "execution_count": 44,
   "metadata": {},
   "outputs": [],
   "source": [
    "rul = pd.read_csv(\"data/RUL_FD001.txt\", header=None).values.reshape(-1)\n",
    "df_train = pd.read_csv(\"data/train_FD001.txt\", sep=' ', header=None)\n",
    "df_train = df_train.drop(df_train.columns[-2:], axis=1)\n",
    "df_test = pd.read_csv(\"data/test_FD001.txt\", sep=' ', header=None)\n",
    "df_test = df_test.drop(df_test.columns[-2:], axis=1)"
   ]
  },
  {
   "cell_type": "code",
   "execution_count": 45,
   "metadata": {},
   "outputs": [],
   "source": [
    "column_selected = df_train[df_train.iloc[:, 0] == 1].std() > 1e-10\n",
    "column_selected[0:5] = True"
   ]
  },
  {
   "cell_type": "code",
   "execution_count": 46,
   "metadata": {},
   "outputs": [],
   "source": [
    "df_train = df_train.loc[:, column_selected]\n",
    "df_test = df_test.loc[:, column_selected]"
   ]
  },
  {
   "cell_type": "code",
   "execution_count": 47,
   "metadata": {},
   "outputs": [
    {
     "data": {
      "image/png": "[encoded data removed]",
      "text/plain": [
       "<Figure size 640x480 with 1 Axes>"
      ]
     },
     "metadata": {},
     "output_type": "display_data"
    }
   ],
   "source": [
    "plt.plot(np.sort(rul))\n",
    "plt.grid()"
   ]
  },
  {
   "cell_type": "code",
   "execution_count": 48,
   "metadata": {},
   "outputs": [],
   "source": [
    "scaler = MinMaxScaler(feature_range=(-1, 1))\n",
    "data_train = scaler.fit_transform(df_train.iloc[:, 5:])\n",
    "data_test = scaler.fit_transform(df_test.iloc[:, 5:])"
   ]
  },
  {
   "cell_type": "code",
   "execution_count": 49,
   "metadata": {},
   "outputs": [],
   "source": [
    "window_size = 30\n",
    "y_cap = 130\n",
    "train_X = []\n",
    "train_no = []\n",
    "train_label = []\n",
    "\n",
    "for i in range(1, 101):\n",
    "    data_unit = data_train[df_train.iloc[:, 0] == i]\n",
    "    train_X_unit = []\n",
    "    train_no_unit = []\n",
    "\n",
    "    for j in range(window_size-1):\n",
    "        X_pad = np.zeros([window_size, data_unit.shape[-1]])\n",
    "        X_pad[-j-1:, :] = data_unit[:j+1, :]\n",
    "        train_X_unit.append(X_pad)\n",
    "        train_no_unit.append(i)\n",
    "\n",
    "    for j in range(len(data_unit)-window_size+1):\n",
    "        train_X_unit.append(data_unit[j:j+window_size, :])\n",
    "        train_no_unit.append(i)\n",
    "\n",
    "    rul_unit = rul[i-1]\n",
    "    y_unit = np.arange(rul_unit, 0, -1) - 1\n",
    "    y_unit = y_unit[:min(rul_unit, len(data_unit))] # RUL of No.39 is larger than duration\n",
    "    y_unit[y_unit>y_cap] = y_cap\n",
    "\n",
    "    train_X += train_X_unit[:rul_unit]\n",
    "    train_no += train_no_unit[:rul_unit]\n",
    "\n",
    "    train_label += list(y_unit)\n",
    "\n",
    "    #print((i, len(train_label), len(train_X), rul_unit, len(data_unit)))\n",
    "\n",
    "train_X = np.array(train_X)\n",
    "train_no = np.array(train_no)\n",
    "train_label = np.array(train_label)"
   ]
  },
  {
   "cell_type": "code",
   "execution_count": 53,
   "metadata": {},
   "outputs": [],
   "source": [
    "test_X = []\n",
    "test_label = []\n",
    "test_no = []\n",
    "\n",
    "for i in range(1, 101):\n",
    "    data_unit = data_test[df_test.iloc[:, 0] == i]\n",
    "    test_X_unit = []\n",
    "    test_no_unit = []\n",
    "\n",
    "    for j in range(window_size-1):\n",
    "        X_pad = np.zeros([window_size, data_unit.shape[-1]])\n",
    "        X_pad[-j-1:, :] = data_unit[:j+1, :]\n",
    "        test_X_unit.append(X_pad)\n",
    "        test_no_unit.append(i)\n",
    "\n",
    "    for j in range(len(data_unit)-window_size+1):\n",
    "        test_X_unit.append(data_unit[j:j+window_size, :])\n",
    "        test_no_unit.append(i)\n",
    "\n",
    "    rul_unit = len(data_unit)\n",
    "    y_unit = np.arange(rul_unit, 0, -1) - 1\n",
    "    y_unit[y_unit>y_cap] = y_cap\n",
    "\n",
    "    test_X += test_X_unit\n",
    "    test_no += test_no_unit\n",
    "    test_label += list(y_unit)\n",
    "\n",
    "test_X = np.array(test_X)\n",
    "test_no = np.array(test_no)\n",
    "test_label = np.array(test_label)"
   ]
  },
  {
   "cell_type": "code",
   "execution_count": 54,
   "metadata": {},
   "outputs": [
    {
     "data": {
      "text/plain": [
       "13096"
      ]
     },
     "execution_count": 54,
     "metadata": {},
     "output_type": "execute_result"
    }
   ],
   "source": [
    "len(test_X)"
   ]
  },
  {
   "cell_type": "code",
   "execution_count": 56,
   "metadata": {},
   "outputs": [
    {
     "data": {
      "text/plain": [
       "array([  1,   1,   1, ..., 100, 100, 100])"
      ]
     },
     "execution_count": 56,
     "metadata": {},
     "output_type": "execute_result"
    }
   ],
   "source": [
    "test_no"
   ]
  },
  {
   "cell_type": "code",
   "execution_count": 13,
   "metadata": {},
   "outputs": [],
   "source": [
    "# window_size = 30\n",
    "# train_X = []\n",
    "# train_unit = []\n",
    "# train_label = []\n",
    "\n",
    "\n",
    "# for i in range(1, 101):\n",
    "#     data_unit = data_train[df_train.iloc[:, 0] == i]\n",
    "#     for j in range(len(data_unit)-window_size):\n",
    "#         train_X.append(data_unit[i:i+window_size, :])\n",
    "#         train_unit.append(i)\n",
    "\n",
    "#     y_unit = np.arange(rul[i-1]-window_size-1, rul[i-1]-len(data_unit)-1, -1)\n",
    "#     y_unit[y_unit<0.] = 0.\n",
    "\n",
    "#     train_label += list(y_unit)\n",
    "\n",
    "# train_X = np.array(train_X)\n",
    "# train_unit = np.array(train_unit)\n",
    "# train_label = np.array(train_label)"
   ]
  },
  {
   "cell_type": "markdown",
   "metadata": {},
   "source": [
    "RUL is smaller than window"
   ]
  },
  {
   "cell_type": "code",
   "execution_count": null,
   "metadata": {},
   "outputs": [],
   "source": []
  }
 ],
 "metadata": {
  "kernelspec": {
   "display_name": "torch",
   "language": "python",
   "name": "python3"
  },
  "language_info": {
   "codemirror_mode": {
    "name": "ipython",
    "version": 3
   },
   "file_extension": ".py",
   "mimetype": "text/x-python",
   "name": "python",
   "nbconvert_exporter": "python",
   "pygments_lexer": "ipython3",
   "version": "3.11.7"
  }
 },
 "nbformat": 4,
 "nbformat_minor": 2
}
