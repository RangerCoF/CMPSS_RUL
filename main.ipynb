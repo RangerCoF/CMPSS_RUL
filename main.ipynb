{
 "cells": [
  {
   "cell_type": "code",
   "execution_count": 44,
   "metadata": {},
   "outputs": [],
   "source": [
    "import numpy as np\n",
    "import pandas as pd\n",
    "from matplotlib import pyplot as plt\n",
    "from sklearn.preprocessing import MinMaxScaler"
   ]
  },
  {
   "cell_type": "code",
   "execution_count": 85,
   "metadata": {},
   "outputs": [],
   "source": [
    "rul = pd.read_csv(\"data/RUL_FD001.txt\", header=None)\n",
    "df_train = pd.read_csv(\"data/train_FD001.txt\", sep=' ', header=None)\n",
    "df_train = df_train.drop(df_train.columns[-2:], axis=1)\n",
    "df_test = pd.read_csv(\"data/test_FD001.txt\", sep=' ', header=None)\n",
    "df_test = df_test.drop(df_test.columns[-2:], axis=1)"
   ]
  },
  {
   "cell_type": "code",
   "execution_count": 86,
   "metadata": {},
   "outputs": [],
   "source": [
    "column_selected = df_train[df_train.iloc[:, 0] == 1].std() > 1e-10\n",
    "column_selected[0:5] = True"
   ]
  },
  {
   "cell_type": "code",
   "execution_count": 87,
   "metadata": {},
   "outputs": [],
   "source": [
    "df_train = df_train.loc[:, column_selected]\n",
    "df_test = df_test.loc[:, column_selected]"
   ]
  },
  {
   "cell_type": "code",
   "execution_count": 88,
   "metadata": {},
   "outputs": [],
   "source": [
    "scaler = MinMaxScaler(feature_range=(-1, 1))\n",
    "data_train = scaler.fit_transform(df_train.iloc[:, 5:])\n",
    "data_test = scaler.fit_transform(df_test.iloc[:, 5:])"
   ]
  },
  {
   "cell_type": "code",
   "execution_count": 121,
   "metadata": {},
   "outputs": [],
   "source": [
    "window_size = 30\n",
    "train_X = []\n",
    "train_unit = []\n",
    "\n",
    "\n",
    "for i in range(1, 101):\n",
    "    data_unit = data_train[df_train.iloc[:, 0] == i]\n",
    "    for j in range(len(data_unit)-window_size):\n",
    "        train_X.append(data_unit[i:i+window_size, :])\n",
    "        train_unit.append(i)\n",
    "\n",
    "train_X = np.array(train_X)\n",
    "train_unit = np.array(train_unit)"
   ]
  },
  {
   "cell_type": "code",
   "execution_count": null,
   "metadata": {},
   "outputs": [],
   "source": []
  }
 ],
 "metadata": {
  "kernelspec": {
   "display_name": "torch",
   "language": "python",
   "name": "python3"
  },
  "language_info": {
   "codemirror_mode": {
    "name": "ipython",
    "version": 3
   },
   "file_extension": ".py",
   "mimetype": "text/x-python",
   "name": "python",
   "nbconvert_exporter": "python",
   "pygments_lexer": "ipython3",
   "version": "3.11.7"
  }
 },
 "nbformat": 4,
 "nbformat_minor": 2
}
